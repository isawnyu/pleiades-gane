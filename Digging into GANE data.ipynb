{
 "metadata": {
  "name": "Digging into GANE data"
 },
 "nbformat": 3,
 "nbformat_minor": 0,
 "worksheets": [
  {
   "cells": [
    {
     "cell_type": "code",
     "collapsed": false,
     "input": [
      "from collections import defaultdict\n",
      "import glob\n",
      "import json\n",
      "import pprint"
     ],
     "language": "python",
     "metadata": {},
     "outputs": [],
     "prompt_number": 2
    },
    {
     "cell_type": "code",
     "collapsed": false,
     "input": [
      "gane_names = []\n",
      "\n",
      "#for fname in glob.glob(\"names-0*.json\"):\n",
      "#    f = open(fname)\n",
      "#    text = f.read()\n",
      "#    gane_names.extend(json.loads(text))\n",
      "#    f.close()\n",
      "\n",
      "f = open(\"tavo-edited-place-names.json\")\n",
      "text = f.read()\n",
      "gane_names.extend(json.loads(text))\n",
      "f.close()\n",
      "\n",
      "print len(gane_names)"
     ],
     "language": "python",
     "metadata": {},
     "outputs": [
      {
       "output_type": "stream",
       "stream": "stdout",
       "text": [
        "2432\n"
       ]
      }
     ],
     "prompt_number": 3
    },
    {
     "cell_type": "code",
     "collapsed": false,
     "input": [
      "gane_tree = defaultdict(dict)\n",
      "\n",
      "for n in gane_names:\n",
      "    try:\n",
      "        placeURI = n.get('placeURI')\n",
      "        parts = placeURI.split('/')\n",
      "        if len(parts) > 5:\n",
      "            placeURI = '/'.join(parts[:5])\n",
      "        if \"pleiades.stoa.org\" in placeURI:\n",
      "            branch = int(n.get('GANEid', -1))\n",
      "            n['pid'] = placeURI.rstrip('/').split('/')[-1]\n",
      "        else:\n",
      "            branch = int(n.get('placeURI').split(\"placeID=\")[1])\n",
      "    except:\n",
      "        print n \n",
      "        raise\n",
      "    leaf = int(n.get('GANEid', -1))\n",
      "    gane_tree[branch][leaf] = n"
     ],
     "language": "python",
     "metadata": {},
     "outputs": [],
     "prompt_number": 4
    },
    {
     "cell_type": "code",
     "collapsed": false,
     "input": [
      "print len(gane_tree) # the number of GANE places"
     ],
     "language": "python",
     "metadata": {},
     "outputs": [
      {
       "output_type": "stream",
       "stream": "stdout",
       "text": [
        "2135\n"
       ]
      }
     ],
     "prompt_number": 5
    },
    {
     "cell_type": "code",
     "collapsed": false,
     "input": [
      "print gane_tree.items()[0]"
     ],
     "language": "python",
     "metadata": {},
     "outputs": [
      {
       "output_type": "stream",
       "stream": "stdout",
       "text": [
        "(57345, {57345: {u'externalURIs': False, u'placeURI': u'http://pleiades.stoa.org/places/863903', u'reference': {u'text': u'A place name in the T\\xfcbingen Atlas Index (Vol. 3, p. 1561)', u'index-page': 1561, u'index-volume': 3}, u'title': u'Tafl\\u012bs', u'maxDate': 750, u'title-languages': False, 'pid': u'863903', u'GANEid': 57345, u'periods': [u'Caliphate-Umayyad Middle East'], u'extent': {u'type': u'Point', u'coordinates': [44.3, 41.3]}, u'authors': u'B. Siewert-Mayer, H. Kopp, W. R\\xf6llig, F. Deblauwe, E. Kansa', u'nameTransliterated': False, u'creators': u'B. Siewert-Mayer, H. Kopp, W. R\\xf6llig', u'main-map': {u'map': u'BVII3.1', u'accuracy': u'4'}, u'minDate': 632}})\n"
       ]
      }
     ],
     "prompt_number": 6
    },
    {
     "cell_type": "code",
     "collapsed": false,
     "input": [
      "def in_pleiades(args):\n",
      "    # is a GANE place in Pleiades?\n",
      "    k, v = args\n",
      "    try:\n",
      "        return \"pleiades.stoa.org\" in v[k].get('placeURI')\n",
      "    except KeyError:\n",
      "        return False"
     ],
     "language": "python",
     "metadata": {},
     "outputs": [],
     "prompt_number": 7
    },
    {
     "cell_type": "code",
     "collapsed": false,
     "input": [
      "x = gane_tree[13]\n",
      "print in_pleiades((13, x))"
     ],
     "language": "python",
     "metadata": {},
     "outputs": [
      {
       "output_type": "stream",
       "stream": "stdout",
       "text": [
        "False\n"
       ]
      }
     ],
     "prompt_number": 8
    },
    {
     "cell_type": "code",
     "collapsed": false,
     "input": [
      "pprint.pprint(x)"
     ],
     "language": "python",
     "metadata": {},
     "outputs": [
      {
       "output_type": "stream",
       "stream": "stdout",
       "text": [
        "{12: {u'GANEid': 12,\n",
        "      u'authors': u'B. Siewert-Mayer, H. Kopp, W. R\\xf6llig, F. Deblauwe, E. Kansa',\n",
        "      u'creators': u'B. Siewert-Mayer, H. Kopp, W. R\\xf6llig',\n",
        "      u'extent': {u'coordinates': [48, 30], u'type': u'Point'},\n",
        "      u'externalURIs': False,\n",
        "      u'main-map': {u'accuracy': u'4', u'map': u'BX1'},\n",
        "      u'maxDate': 1950,\n",
        "      u'minDate': 1900,\n",
        "      u'nameTransliterated': False,\n",
        "      u'periods': [u'Ottoman Decline-Mandate Middle East'],\n",
        "      u'placeURI': u'http://gap.alexandriaarchive.org/gane/edit-place?placeID=13',\n",
        "      u'reference': {u'index-page': 1,\n",
        "                     u'index-volume': 1,\n",
        "                     u'text': u'A place name in the T\\xfcbingen Atlas Index (Vol. 1, p. 1)'},\n",
        "      u'title': u'\\u02bfAba\\u0304d\\u0101n',\n",
        "      u'title-languages': False},\n",
        " 13: {u'GANEid': 13,\n",
        "      u'authors': u'B. Siewert-Mayer, H. Kopp, W. R\\xf6llig, F. Deblauwe, E. Kansa',\n",
        "      u'creators': u'B. Siewert-Mayer, H. Kopp, W. R\\xf6llig',\n",
        "      u'extent': {u'coordinates': [48.1, 30.2], u'type': u'Point'},\n",
        "      u'externalURIs': [{u'title': u'Abadan, Iran',\n",
        "                         u'uri': u'http://en.wikipedia.org/wiki/Abadan,_Iran'},\n",
        "                        {u'title': u'Encyclopaedia Iranica Online. A\\u0304ba\\u0304da\\u0304n - City and island in the \\u1e34\\u016bzest\\u0101n province at the head of the Persian Gulf',\n",
        "                         u'uri': u'http://www.iranicaonline.org/articles/abadan'}],\n",
        "      u'main-map': {u'accuracy': u'4', u'map': u'BX1'},\n",
        "      u'maxDate': 2000,\n",
        "      u'minDate': 819,\n",
        "      u'nameTransliterated': [u'Abadan'],\n",
        "      u'periods': [u'Samanid-Ghaznavid Iran',\n",
        "                   u'Safavid Middle East',\n",
        "                   u'Ottoman Decline-Mandate Middle East',\n",
        "                   u'Modern Middle East'],\n",
        "      u'placeURI': u'http://gap.alexandriaarchive.org/gane/edit-place?placeID=13',\n",
        "      u'reference': {u'index-page': 1,\n",
        "                     u'index-volume': 1,\n",
        "                     u'text': u'A place name in the T\\xfcbingen Atlas Index (Vol. 1, p. 1)'},\n",
        "      u'title': u'\\u0100b\\u0101d\\u0101n',\n",
        "      u'title-languages': [{u'iso': u'fas',\n",
        "                            u'iso_stand': True,\n",
        "                            u'language': u'[Modern] Persian'}]},\n",
        " 78: {u'GANEid': 78,\n",
        "      u'authors': u'B. Siewert-Mayer, H. Kopp, W. R\\xf6llig, F. Deblauwe, E. Kansa',\n",
        "      u'creators': u'B. Siewert-Mayer, H. Kopp, W. R\\xf6llig',\n",
        "      u'extent': {u'coordinates': [48.15, 30.15], u'type': u'Point'},\n",
        "      u'externalURIs': False,\n",
        "      u'main-map': {u'accuracy': u'4', u'map': u'BX1'},\n",
        "      u'maxDate': 1950,\n",
        "      u'minDate': 750,\n",
        "      u'nameTransliterated': [u\"'Abadan\", u'Abbadan', u\"'Abbadan\", u'Abadan'],\n",
        "      u'periods': [u'Abassid Middle East',\n",
        "                   u'Samanid-Ghaznavid Iran',\n",
        "                   u'Seljuq-Khwarezmian Middle East',\n",
        "                   u'Khwarezmian Middle East',\n",
        "                   u'1200 BC Middle East',\n",
        "                   u'Mongol Middle East',\n",
        "                   u'Ilkhanate Middle East',\n",
        "                   u'Timurid Middle East',\n",
        "                   u'Ottoman Decline-Mandate Middle East'],\n",
        "      u'placeURI': u'http://gap.alexandriaarchive.org/gane/edit-place?placeID=13',\n",
        "      u'reference': {u'index-page': 3,\n",
        "                     u'index-volume': 1,\n",
        "                     u'text': u'A place name in the T\\xfcbingen Atlas Index (Vol. 1, p. 3)'},\n",
        "      u'title': u'\\u02bfAbb\\u0101d\\u0101n',\n",
        "      u'title-languages': [{u'iso': u'arb',\n",
        "                            u'iso_stand': True,\n",
        "                            u'language': u'[Standard Modern] Arabic'}]}}\n"
       ]
      }
     ],
     "prompt_number": 9
    },
    {
     "cell_type": "code",
     "collapsed": false,
     "input": [
      "for k, v in x.items():\n",
      "    print k, v['title'], v['nameTransliterated']"
     ],
     "language": "python",
     "metadata": {},
     "outputs": [
      {
       "output_type": "stream",
       "stream": "stdout",
       "text": [
        "12 \u02bfAb\u0101d\u0101n False\n",
        "13 \u0100b\u0101d\u0101n [u'Abadan']\n",
        "78 \u02bfAbb\u0101d\u0101n [u\"'Abadan\", u'Abbadan', u\"'Abbadan\", u'Abadan']\n"
       ]
      }
     ],
     "prompt_number": 10
    },
    {
     "cell_type": "code",
     "collapsed": false,
     "input": [
      "len(gane_tree)"
     ],
     "language": "python",
     "metadata": {},
     "outputs": [
      {
       "output_type": "pyout",
       "prompt_number": 11,
       "text": [
        "2135"
       ]
      }
     ],
     "prompt_number": 11
    },
    {
     "cell_type": "code",
     "collapsed": false,
     "input": [
      "from itertools import ifilter\n",
      "n, y = ifilter(lambda item: len(item[1])>0, filter(lambda a: not(in_pleiades(a)), gane_tree.items())).next()\n",
      "pprint.pprint(y)"
     ],
     "language": "python",
     "metadata": {},
     "outputs": [
      {
       "output_type": "stream",
       "stream": "stdout",
       "text": [
        "{12: {u'GANEid': 12,\n",
        "      u'authors': u'B. Siewert-Mayer, H. Kopp, W. R\\xf6llig, F. Deblauwe, E. Kansa',\n",
        "      u'creators': u'B. Siewert-Mayer, H. Kopp, W. R\\xf6llig',\n",
        "      u'extent': {u'coordinates': [48, 30], u'type': u'Point'},\n",
        "      u'externalURIs': False,\n",
        "      u'main-map': {u'accuracy': u'4', u'map': u'BX1'},\n",
        "      u'maxDate': 1950,\n",
        "      u'minDate': 1900,\n",
        "      u'nameTransliterated': False,\n",
        "      u'periods': [u'Ottoman Decline-Mandate Middle East'],\n",
        "      u'placeURI': u'http://gap.alexandriaarchive.org/gane/edit-place?placeID=13',\n",
        "      u'reference': {u'index-page': 1,\n",
        "                     u'index-volume': 1,\n",
        "                     u'text': u'A place name in the T\\xfcbingen Atlas Index (Vol. 1, p. 1)'},\n",
        "      u'title': u'\\u02bfAba\\u0304d\\u0101n',\n",
        "      u'title-languages': False},\n",
        " 13: {u'GANEid': 13,\n",
        "      u'authors': u'B. Siewert-Mayer, H. Kopp, W. R\\xf6llig, F. Deblauwe, E. Kansa',\n",
        "      u'creators': u'B. Siewert-Mayer, H. Kopp, W. R\\xf6llig',\n",
        "      u'extent': {u'coordinates': [48.1, 30.2], u'type': u'Point'},\n",
        "      u'externalURIs': [{u'title': u'Abadan, Iran',\n",
        "                         u'uri': u'http://en.wikipedia.org/wiki/Abadan,_Iran'},\n",
        "                        {u'title': u'Encyclopaedia Iranica Online. A\\u0304ba\\u0304da\\u0304n - City and island in the \\u1e34\\u016bzest\\u0101n province at the head of the Persian Gulf',\n",
        "                         u'uri': u'http://www.iranicaonline.org/articles/abadan'}],\n",
        "      u'main-map': {u'accuracy': u'4', u'map': u'BX1'},\n",
        "      u'maxDate': 2000,\n",
        "      u'minDate': 819,\n",
        "      u'nameTransliterated': [u'Abadan'],\n",
        "      u'periods': [u'Samanid-Ghaznavid Iran',\n",
        "                   u'Safavid Middle East',\n",
        "                   u'Ottoman Decline-Mandate Middle East',\n",
        "                   u'Modern Middle East'],\n",
        "      u'placeURI': u'http://gap.alexandriaarchive.org/gane/edit-place?placeID=13',\n",
        "      u'reference': {u'index-page': 1,\n",
        "                     u'index-volume': 1,\n",
        "                     u'text': u'A place name in the T\\xfcbingen Atlas Index (Vol. 1, p. 1)'},\n",
        "      u'title': u'\\u0100b\\u0101d\\u0101n',\n",
        "      u'title-languages': [{u'iso': u'fas',\n",
        "                            u'iso_stand': True,\n",
        "                            u'language': u'[Modern] Persian'}]},\n",
        " 78: {u'GANEid': 78,\n",
        "      u'authors': u'B. Siewert-Mayer, H. Kopp, W. R\\xf6llig, F. Deblauwe, E. Kansa',\n",
        "      u'creators': u'B. Siewert-Mayer, H. Kopp, W. R\\xf6llig',\n",
        "      u'extent': {u'coordinates': [48.15, 30.15], u'type': u'Point'},\n",
        "      u'externalURIs': False,\n",
        "      u'main-map': {u'accuracy': u'4', u'map': u'BX1'},\n",
        "      u'maxDate': 1950,\n",
        "      u'minDate': 750,\n",
        "      u'nameTransliterated': [u\"'Abadan\", u'Abbadan', u\"'Abbadan\", u'Abadan'],\n",
        "      u'periods': [u'Abassid Middle East',\n",
        "                   u'Samanid-Ghaznavid Iran',\n",
        "                   u'Seljuq-Khwarezmian Middle East',\n",
        "                   u'Khwarezmian Middle East',\n",
        "                   u'1200 BC Middle East',\n",
        "                   u'Mongol Middle East',\n",
        "                   u'Ilkhanate Middle East',\n",
        "                   u'Timurid Middle East',\n",
        "                   u'Ottoman Decline-Mandate Middle East'],\n",
        "      u'placeURI': u'http://gap.alexandriaarchive.org/gane/edit-place?placeID=13',\n",
        "      u'reference': {u'index-page': 3,\n",
        "                     u'index-volume': 1,\n",
        "                     u'text': u'A place name in the T\\xfcbingen Atlas Index (Vol. 1, p. 3)'},\n",
        "      u'title': u'\\u02bfAbb\\u0101d\\u0101n',\n",
        "      u'title-languages': [{u'iso': u'arb',\n",
        "                            u'iso_stand': True,\n",
        "                            u'language': u'[Standard Modern] Arabic'}]}}\n"
       ]
      }
     ],
     "prompt_number": 12
    },
    {
     "cell_type": "code",
     "collapsed": false,
     "input": [
      "for k, v in y.items():\n",
      "    print k, v['title'], v['nameTransliterated']"
     ],
     "language": "python",
     "metadata": {},
     "outputs": [
      {
       "output_type": "stream",
       "stream": "stdout",
       "text": [
        "12 \u02bfAb\u0101d\u0101n False\n",
        "13 \u0100b\u0101d\u0101n [u'Abadan']\n",
        "78 \u02bfAbb\u0101d\u0101n [u\"'Abadan\", u'Abbadan', u\"'Abbadan\", u'Abadan']\n"
       ]
      }
     ],
     "prompt_number": 13
    },
    {
     "cell_type": "code",
     "collapsed": false,
     "input": [
      "moderns = filter(\n",
      "    lambda x: 'Modern Middle East' in \" \".join(x['periods']), \n",
      "    (y for y in x.values() for x in gane_tree.values()) )\n",
      "\n",
      "\n",
      "print len(moderns)"
     ],
     "language": "python",
     "metadata": {},
     "outputs": [
      {
       "output_type": "stream",
       "stream": "stdout",
       "text": [
        "2135\n"
       ]
      }
     ],
     "prompt_number": 14
    },
    {
     "cell_type": "code",
     "collapsed": false,
     "input": [
      "with open(\"gane-tree.json\", \"w\") as f:\n",
      "    f.write(json.dumps(gane_tree))"
     ],
     "language": "python",
     "metadata": {},
     "outputs": [],
     "prompt_number": 15
    },
    {
     "cell_type": "code",
     "collapsed": false,
     "input": [
      "x"
     ],
     "language": "python",
     "metadata": {},
     "outputs": [
      {
       "output_type": "pyout",
       "prompt_number": 16,
       "text": [
        "{12: {u'GANEid': 12,\n",
        "  u'authors': u'B. Siewert-Mayer, H. Kopp, W. R\\xf6llig, F. Deblauwe, E. Kansa',\n",
        "  u'creators': u'B. Siewert-Mayer, H. Kopp, W. R\\xf6llig',\n",
        "  u'extent': {u'coordinates': [48, 30], u'type': u'Point'},\n",
        "  u'externalURIs': False,\n",
        "  u'main-map': {u'accuracy': u'4', u'map': u'BX1'},\n",
        "  u'maxDate': 1950,\n",
        "  u'minDate': 1900,\n",
        "  u'nameTransliterated': False,\n",
        "  u'periods': [u'Ottoman Decline-Mandate Middle East'],\n",
        "  u'placeURI': u'http://gap.alexandriaarchive.org/gane/edit-place?placeID=13',\n",
        "  u'reference': {u'index-page': 1,\n",
        "   u'index-volume': 1,\n",
        "   u'text': u'A place name in the T\\xfcbingen Atlas Index (Vol. 1, p. 1)'},\n",
        "  u'title': u'\\u02bfAba\\u0304d\\u0101n',\n",
        "  u'title-languages': False},\n",
        " 13: {u'GANEid': 13,\n",
        "  u'authors': u'B. Siewert-Mayer, H. Kopp, W. R\\xf6llig, F. Deblauwe, E. Kansa',\n",
        "  u'creators': u'B. Siewert-Mayer, H. Kopp, W. R\\xf6llig',\n",
        "  u'extent': {u'coordinates': [48.1, 30.2], u'type': u'Point'},\n",
        "  u'externalURIs': [{u'title': u'Abadan, Iran',\n",
        "    u'uri': u'http://en.wikipedia.org/wiki/Abadan,_Iran'},\n",
        "   {u'title': u'Encyclopaedia Iranica Online. A\\u0304ba\\u0304da\\u0304n - City and island in the \\u1e34\\u016bzest\\u0101n province at the head of the Persian Gulf',\n",
        "    u'uri': u'http://www.iranicaonline.org/articles/abadan'}],\n",
        "  u'main-map': {u'accuracy': u'4', u'map': u'BX1'},\n",
        "  u'maxDate': 2000,\n",
        "  u'minDate': 819,\n",
        "  u'nameTransliterated': [u'Abadan'],\n",
        "  u'periods': [u'Samanid-Ghaznavid Iran',\n",
        "   u'Safavid Middle East',\n",
        "   u'Ottoman Decline-Mandate Middle East',\n",
        "   u'Modern Middle East'],\n",
        "  u'placeURI': u'http://gap.alexandriaarchive.org/gane/edit-place?placeID=13',\n",
        "  u'reference': {u'index-page': 1,\n",
        "   u'index-volume': 1,\n",
        "   u'text': u'A place name in the T\\xfcbingen Atlas Index (Vol. 1, p. 1)'},\n",
        "  u'title': u'\\u0100b\\u0101d\\u0101n',\n",
        "  u'title-languages': [{u'iso': u'fas',\n",
        "    u'iso_stand': True,\n",
        "    u'language': u'[Modern] Persian'}]},\n",
        " 78: {u'GANEid': 78,\n",
        "  u'authors': u'B. Siewert-Mayer, H. Kopp, W. R\\xf6llig, F. Deblauwe, E. Kansa',\n",
        "  u'creators': u'B. Siewert-Mayer, H. Kopp, W. R\\xf6llig',\n",
        "  u'extent': {u'coordinates': [48.15, 30.15], u'type': u'Point'},\n",
        "  u'externalURIs': False,\n",
        "  u'main-map': {u'accuracy': u'4', u'map': u'BX1'},\n",
        "  u'maxDate': 1950,\n",
        "  u'minDate': 750,\n",
        "  u'nameTransliterated': [u\"'Abadan\", u'Abbadan', u\"'Abbadan\", u'Abadan'],\n",
        "  u'periods': [u'Abassid Middle East',\n",
        "   u'Samanid-Ghaznavid Iran',\n",
        "   u'Seljuq-Khwarezmian Middle East',\n",
        "   u'Khwarezmian Middle East',\n",
        "   u'1200 BC Middle East',\n",
        "   u'Mongol Middle East',\n",
        "   u'Ilkhanate Middle East',\n",
        "   u'Timurid Middle East',\n",
        "   u'Ottoman Decline-Mandate Middle East'],\n",
        "  u'placeURI': u'http://gap.alexandriaarchive.org/gane/edit-place?placeID=13',\n",
        "  u'reference': {u'index-page': 3,\n",
        "   u'index-volume': 1,\n",
        "   u'text': u'A place name in the T\\xfcbingen Atlas Index (Vol. 1, p. 3)'},\n",
        "  u'title': u'\\u02bfAbb\\u0101d\\u0101n',\n",
        "  u'title-languages': [{u'iso': u'arb',\n",
        "    u'iso_stand': True,\n",
        "    u'language': u'[Standard Modern] Arabic'}]}}"
       ]
      }
     ],
     "prompt_number": 16
    },
    {
     "cell_type": "code",
     "collapsed": false,
     "input": [
      "from itertools import chain\n",
      "\n",
      "all_periods = set(chain(*[n['periods'] for n in x.values()]))\n",
      "print all_periods, len(all_periods)"
     ],
     "language": "python",
     "metadata": {},
     "outputs": [
      {
       "output_type": "stream",
       "stream": "stdout",
       "text": [
        "set([u'Safavid Middle East', u'Ilkhanate Middle East', u'Mongol Middle East', u'Timurid Middle East', u'Ottoman Decline-Mandate Middle East', u'Seljuq-Khwarezmian Middle East', u'Modern Middle East', u'Khwarezmian Middle East', u'Abassid Middle East', u'Samanid-Ghaznavid Iran', u'1200 BC Middle East']) 11\n"
       ]
      }
     ],
     "prompt_number": 17
    },
    {
     "cell_type": "code",
     "collapsed": false,
     "input": [
      "def get_accuracy(name):\n",
      "    main_map = name.get('main-map')\n",
      "    if main_map:\n",
      "        return main_map.get('accuracy')\n",
      "    else:\n",
      "        return None\n",
      "\n",
      "points = sorted(filter(\n",
      "            lambda t: t[0] and t[2].get('extent'),\n",
      "            [(get_accuracy(v), k, v) for \n",
      "                k, v in x.items()] ))\n",
      "print points[0]"
     ],
     "language": "python",
     "metadata": {},
     "outputs": [
      {
       "output_type": "stream",
       "stream": "stdout",
       "text": [
        "(u'4', 12, {u'externalURIs': False, u'placeURI': u'http://gap.alexandriaarchive.org/gane/edit-place?placeID=13', u'reference': {u'text': u'A place name in the T\\xfcbingen Atlas Index (Vol. 1, p. 1)', u'index-page': 1, u'index-volume': 1}, u'title': u'\\u02bfAba\\u0304d\\u0101n', u'maxDate': 1950, u'title-languages': False, u'GANEid': 12, u'periods': [u'Ottoman Decline-Mandate Middle East'], u'extent': {u'type': u'Point', u'coordinates': [48, 30]}, u'authors': u'B. Siewert-Mayer, H. Kopp, W. R\\xf6llig, F. Deblauwe, E. Kansa', u'nameTransliterated': False, u'creators': u'B. Siewert-Mayer, H. Kopp, W. R\\xf6llig', u'main-map': {u'map': u'BX1', u'accuracy': u'4'}, u'minDate': 1900})\n"
       ]
      }
     ],
     "prompt_number": 18
    },
    {
     "cell_type": "code",
     "collapsed": false,
     "input": [
      "with open(\"abbadan.json\", \"w\") as f:\n",
      "    f.write(json.dumps({13: x}))"
     ],
     "language": "python",
     "metadata": {},
     "outputs": [],
     "prompt_number": 19
    },
    {
     "cell_type": "code",
     "collapsed": false,
     "input": [
      "x.keys()"
     ],
     "language": "python",
     "metadata": {},
     "outputs": [
      {
       "output_type": "pyout",
       "prompt_number": 20,
       "text": [
        "[12, 13, 78]"
       ]
      }
     ],
     "prompt_number": 20
    },
    {
     "cell_type": "code",
     "collapsed": false,
     "input": [
      "13 in x"
     ],
     "language": "python",
     "metadata": {},
     "outputs": [
      {
       "output_type": "pyout",
       "prompt_number": 21,
       "text": [
        "True"
       ]
      }
     ],
     "prompt_number": 21
    },
    {
     "cell_type": "code",
     "collapsed": false,
     "input": [
      "print len(gane_tree)\n",
      "tblisi = []\n",
      "for pk, cluster in gane_tree.items():\n",
      "    for k, item in cluster.items():\n",
      "        if item['placeURI'].endswith('863903'):\n",
      "            tblisi.append((pk, {k: item}))\n",
      "print len(tblisi)\n",
      "with open(\"tblisi.json\", \"w\") as f:\n",
      "    f.write(json.dumps(dict(tblisi), indent=2))"
     ],
     "language": "python",
     "metadata": {},
     "outputs": [
      {
       "output_type": "stream",
       "stream": "stdout",
       "text": [
        "2135\n",
        "11\n"
       ]
      }
     ],
     "prompt_number": 22
    },
    {
     "cell_type": "code",
     "collapsed": false,
     "input": [
      "with open(\"gane-all.json\", \"w\") as f:\n",
      "    f.write(json.dumps(gane_tree, indent=2))"
     ],
     "language": "python",
     "metadata": {},
     "outputs": [],
     "prompt_number": 23
    },
    {
     "cell_type": "code",
     "collapsed": false,
     "input": [
      "len([k for k,v in gane_tree.items() if len(v) > 7])"
     ],
     "language": "python",
     "metadata": {},
     "outputs": [
      {
       "output_type": "pyout",
       "prompt_number": 24,
       "text": [
        "11"
       ]
      }
     ],
     "prompt_number": 24
    },
    {
     "cell_type": "code",
     "collapsed": false,
     "input": [
      "len(gane_tree)"
     ],
     "language": "python",
     "metadata": {},
     "outputs": [
      {
       "output_type": "pyout",
       "prompt_number": 25,
       "text": [
        "2135"
       ]
      }
     ],
     "prompt_number": 25
    },
    {
     "cell_type": "code",
     "collapsed": false,
     "input": [
      "seven = [{k:v} for k,v in gane_tree.items() if len(v) > 7][0]"
     ],
     "language": "python",
     "metadata": {},
     "outputs": [],
     "prompt_number": 26
    },
    {
     "cell_type": "code",
     "collapsed": false,
     "input": [
      "seven[43205][43201]"
     ],
     "language": "python",
     "metadata": {},
     "outputs": [
      {
       "output_type": "pyout",
       "prompt_number": 27,
       "text": [
        "{u'GANEid': 43201,\n",
        " u'authors': u'B. Siewert-Mayer, H. Kopp, W. R\\xf6llig, F. Deblauwe, E. Kansa',\n",
        " u'creators': u'B. Siewert-Mayer, H. Kopp, W. R\\xf6llig',\n",
        " u'extent': {u'coordinates': [34.4, 37.5], u'type': u'Point'},\n",
        " u'externalURIs': False,\n",
        " u'main-map': {u'accuracy': u'2', u'map': u'BVII10'},\n",
        " u'maxDate': 1307,\n",
        " u'minDate': 1077,\n",
        " u'nameTransliterated': False,\n",
        " u'periods': [u'Rum/Crusader Anatolia'],\n",
        " u'placeURI': u'http://gap.alexandriaarchive.org/gane/edit-place?placeID=43205',\n",
        " u'reference': {u'index-page': 1175,\n",
        "  u'index-volume': 2,\n",
        "  u'text': u'A place name in the T\\xfcbingen Atlas Index (Vol. 2, p. 1175)'},\n",
        " u'title': u'Nigda',\n",
        " u'title-languages': [{u'iso': u'fas',\n",
        "   u'iso_stand': True,\n",
        "   u'language': u'[Modern] Persian'}]}"
       ]
      }
     ],
     "prompt_number": 27
    },
    {
     "cell_type": "code",
     "collapsed": false,
     "input": [
      "t = gane_tree[61261]\n",
      "print len(t)"
     ],
     "language": "python",
     "metadata": {},
     "outputs": [
      {
       "output_type": "stream",
       "stream": "stdout",
       "text": [
        "17\n"
       ]
      }
     ],
     "prompt_number": 28
    },
    {
     "cell_type": "code",
     "collapsed": false,
     "input": [
      "with open(\"tehran.json\", \"w\") as f:\n",
      "    f.write(json.dumps({61261: t}))"
     ],
     "language": "python",
     "metadata": {},
     "outputs": [],
     "prompt_number": 29
    },
    {
     "cell_type": "code",
     "collapsed": false,
     "input": [
      "with open('gane-failures.txt') as f:\n",
      "    fails = list(map(int, f.readlines()))"
     ],
     "language": "python",
     "metadata": {},
     "outputs": [],
     "prompt_number": 30
    },
    {
     "cell_type": "code",
     "collapsed": false,
     "input": [
      "len(fails)"
     ],
     "language": "python",
     "metadata": {},
     "outputs": [
      {
       "output_type": "pyout",
       "prompt_number": 31,
       "text": [
        "118"
       ]
      }
     ],
     "prompt_number": 31
    },
    {
     "cell_type": "code",
     "collapsed": false,
     "input": [
      "fails[:4]"
     ],
     "language": "python",
     "metadata": {},
     "outputs": [
      {
       "output_type": "pyout",
       "prompt_number": 32,
       "text": [
        "[2445, 2445, 59584, 59584]"
       ]
      }
     ],
     "prompt_number": 32
    },
    {
     "cell_type": "code",
     "collapsed": false,
     "input": [
      "failures = {k: gane_tree[k] for k in fails}"
     ],
     "language": "python",
     "metadata": {},
     "outputs": [],
     "prompt_number": 33
    },
    {
     "cell_type": "code",
     "collapsed": false,
     "input": [
      "with open(\"gane-failures-toretry.json\", 'w') as f:\n",
      "    f.write(json.dumps(failures))"
     ],
     "language": "python",
     "metadata": {},
     "outputs": [],
     "prompt_number": 34
    },
    {
     "cell_type": "code",
     "collapsed": false,
     "input": [
      "fails"
     ],
     "language": "python",
     "metadata": {},
     "outputs": [
      {
       "output_type": "pyout",
       "prompt_number": 35,
       "text": [
        "[2445,\n",
        " 2445,\n",
        " 59584,\n",
        " 59584,\n",
        " 6226,\n",
        " 6226,\n",
        " 68295,\n",
        " 68295,\n",
        " 15906,\n",
        " 15906,\n",
        " 48751,\n",
        " 48751,\n",
        " 38990,\n",
        " 38990,\n",
        " 42329,\n",
        " 42329,\n",
        " 3803,\n",
        " 3803,\n",
        " 3802,\n",
        " 3802,\n",
        " 57929,\n",
        " 57929,\n",
        " 68488,\n",
        " 68488,\n",
        " 68497,\n",
        " 68497,\n",
        " 23640,\n",
        " 23640,\n",
        " 68304,\n",
        " 68304,\n",
        " 23225,\n",
        " 23225,\n",
        " 68492,\n",
        " 68492,\n",
        " 43361,\n",
        " 43361,\n",
        " 43360,\n",
        " 43360,\n",
        " 43363,\n",
        " 43363,\n",
        " 43362,\n",
        " 43362,\n",
        " 23910,\n",
        " 23910,\n",
        " 37246,\n",
        " 37246,\n",
        " 66073,\n",
        " 66073,\n",
        " 61073,\n",
        " 61073,\n",
        " 21537,\n",
        " 21537,\n",
        " 23227,\n",
        " 23227,\n",
        " 33829,\n",
        " 33829,\n",
        " 43347,\n",
        " 43347,\n",
        " 43346,\n",
        " 43346,\n",
        " 41293,\n",
        " 41293,\n",
        " 14976,\n",
        " 14976,\n",
        " 67293,\n",
        " 67293,\n",
        " 43350,\n",
        " 43350,\n",
        " 43352,\n",
        " 43352,\n",
        " 43356,\n",
        " 43356,\n",
        " 23417,\n",
        " 23417,\n",
        " 10810,\n",
        " 10810,\n",
        " 54472,\n",
        " 54472,\n",
        " 33110,\n",
        " 33110,\n",
        " 48752,\n",
        " 48752,\n",
        " 14581,\n",
        " 14581,\n",
        " 37101,\n",
        " 37101,\n",
        " 49832,\n",
        " 49832,\n",
        " 16440,\n",
        " 16440,\n",
        " 12373,\n",
        " 12373,\n",
        " 10447,\n",
        " 10447,\n",
        " 62676,\n",
        " 62676,\n",
        " 9873,\n",
        " 9873,\n",
        " 56922,\n",
        " 56922,\n",
        " 61083,\n",
        " 61083,\n",
        " 59904,\n",
        " 59904,\n",
        " 61362,\n",
        " 61362,\n",
        " 68388,\n",
        " 68388,\n",
        " 68418,\n",
        " 68418,\n",
        " 68416,\n",
        " 68416,\n",
        " 68417,\n",
        " 68417,\n",
        " 68365,\n",
        " 68365,\n",
        " 68363,\n",
        " 68363]"
       ]
      }
     ],
     "prompt_number": 35
    },
    {
     "cell_type": "code",
     "collapsed": false,
     "input": [
      "len(set(fails))"
     ],
     "language": "python",
     "metadata": {},
     "outputs": [
      {
       "output_type": "pyout",
       "prompt_number": 36,
       "text": [
        "59"
       ]
      }
     ],
     "prompt_number": 36
    },
    {
     "cell_type": "code",
     "collapsed": false,
     "input": [
      "with open('gane-failed-0912.txt') as f:\n",
      "    last_fails = list(map(int, f.readlines()))"
     ],
     "language": "python",
     "metadata": {},
     "outputs": [],
     "prompt_number": 37
    },
    {
     "cell_type": "code",
     "collapsed": false,
     "input": [
      "last_failures = {k: gane_tree[k] for k in last_fails}"
     ],
     "language": "python",
     "metadata": {},
     "outputs": [],
     "prompt_number": 38
    },
    {
     "cell_type": "code",
     "collapsed": false,
     "input": [
      "with open(\"gane-failures-toretry-last.json\", 'w') as f:\n",
      "    f.write(json.dumps(last_failures))"
     ],
     "language": "python",
     "metadata": {},
     "outputs": [],
     "prompt_number": 39
    },
    {
     "cell_type": "code",
     "collapsed": false,
     "input": [],
     "language": "python",
     "metadata": {},
     "outputs": []
    }
   ],
   "metadata": {}
  }
 ]
}